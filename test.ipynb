{
 "cells": [
  {
   "cell_type": "code",
   "execution_count": 1,
   "metadata": {},
   "outputs": [
    {
     "name": "stdout",
     "output_type": "stream",
     "text": [
      "This is a medical report of an ultrasound (USG) of the abdomen and pelvis. \n",
      "\n",
      "**Patient Information:**\n",
      "\n",
      "* **Name:** Mr. Balu Dabade\n",
      "* **Age:** 53 years\n",
      "* **Sex:** Male\n",
      "* **Date of Report:** 25th November 2023\n",
      "* **Reporting Doctor:** Dr. A.R. Deshpande MD\n",
      "\n",
      "**Findings:**\n",
      "\n",
      "* **Liver:** Normal in size and echotexture. No focal lesion is seen. No dilatation of intra-hepatic biliary radicals.\n",
      "* **Gallbladder:** Partially distended and shows clear contents. Wall thickness is normal. CBD and portal vein are normal.\n",
      "* **Pancreas:** Appears normal in size and echotexture.\n",
      "* **Spleen:** Mildly enlarged (12.4 cm) in size and is normal in echotexture. No focal lesion is seen. \n",
      "* **Kidneys:** Both are normal in size, shape and echotexture.\n",
      "* **Left Kidney:** Non-obstructing calculus of size 5 mm in upper calyx. No hydronephrosis/hydrourter on either side.\n",
      "* **Urinary Bladder:** Distended and shows smooth outline. No vesical/UV junction calculus.\n",
      "* **Prostate:** Normal in size, shape, and echotexture.\n",
      "* **Aorta and IVC:** Normal. \n",
      "* **Abdomen and Pelvis:** No collection in abdomen and pelvis. No e/o abnormally enlarged mesentric, pre/para aortic or iliac lymph nodes. \n",
      "\n",
      "**Impression:**\n",
      "\n",
      "* **Mild splenomegaly.**\n",
      "* **Left renal non-obstructing calculus.** \n",
      "\n",
      "**Reporting Doctor:** Dr. Rahul Tupe, MD, DMRE, Consultant Radiologist. \n",
      "\n",
      "**Overall, the report suggests that the patient has a mild enlargement of the spleen and a non-obstructing calculus in the left kidney.** \n",
      "\n",
      "**It is important to note that this analysis is based solely on the provided information. Further evaluation and consultation with the reporting doctor are necessary for proper diagnosis and treatment.** \n",
      "\n"
     ]
    }
   ],
   "source": [
    "import streamlit as st\n",
    "\n",
    "import google.generativeai as genai\n",
    "import PIL.Image\n",
    "\n",
    "# genai.configure(api_key=os.environ[\"GOOGLE_API_KEY\"])\n",
    "genai.configure(api_key=st.secrets.GOOGLE_API_KEY)\n",
    "img = PIL.Image.open('image.png')\n",
    "\n",
    "model = genai.GenerativeModel(model_name=\"gemini-1.5-flash\")\n",
    "response = model.generate_content([\"Analyse the medical report?\", img])\n",
    "print(response.text)\n"
   ]
  }
 ],
 "metadata": {
  "kernelspec": {
   "display_name": "Python 3",
   "language": "python",
   "name": "python3"
  },
  "language_info": {
   "codemirror_mode": {
    "name": "ipython",
    "version": 3
   },
   "file_extension": ".py",
   "mimetype": "text/x-python",
   "name": "python",
   "nbconvert_exporter": "python",
   "pygments_lexer": "ipython3",
   "version": "3.11.4"
  }
 },
 "nbformat": 4,
 "nbformat_minor": 2
}
